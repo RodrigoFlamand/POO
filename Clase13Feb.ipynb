{
  "nbformat": 4,
  "nbformat_minor": 0,
  "metadata": {
    "colab": {
      "provenance": []
    },
    "kernelspec": {
      "name": "python3",
      "display_name": "Python 3"
    },
    "language_info": {
      "name": "python"
    }
  },
  "cells": [
    {
      "cell_type": "markdown",
      "source": [
        "#Clases y Herencias\n",
        "Una clase es un grupo de funciones en un código de texto."
      ],
      "metadata": {
        "id": "VLg3ggdGKmiw"
      }
    },
    {
      "cell_type": "code",
      "execution_count": 20,
      "metadata": {
        "id": "DjDrXho_G3Bb"
      },
      "outputs": [],
      "source": [
        "class Alvaro():\n",
        "   pass"
      ]
    },
    {
      "cell_type": "code",
      "source": [
        "Alvaro()"
      ],
      "metadata": {
        "colab": {
          "base_uri": "https://localhost:8080/"
        },
        "id": "d28jxQuvK5VK",
        "outputId": "63c3db89-6501-4e55-a738-ae7d988f1969"
      },
      "execution_count": 21,
      "outputs": [
        {
          "output_type": "execute_result",
          "data": {
            "text/plain": [
              "<__main__.Alvaro at 0x7e8601c0ccd0>"
            ]
          },
          "metadata": {},
          "execution_count": 21
        }
      ]
    },
    {
      "cell_type": "code",
      "source": [
        "# Vamos a crear una clase que se llamará Alvaro\n",
        "\n",
        "class Alvaro:\n",
        "  def __init__(self, edad, bff, Ceci):\n",
        "    self.edad = edad\n",
        "    self.bff = bff\n",
        "    self.Ceci= Ceci\n",
        "\n",
        "  def saludar(self):\n",
        "    print(f\"a los {self.edad} conocí a mi amigo {self.bff}\")\n",
        "\n",
        "  def chisme(self):\n",
        "    print(f\"Alvaro está en el chisme con {self.bff} y con {self.Ceci}\")\n",
        "\n"
      ],
      "metadata": {
        "id": "IUxsrKzWK8Kz"
      },
      "execution_count": 43,
      "outputs": []
    },
    {
      "cell_type": "code",
      "source": [
        "avo = Alvaro(18, \"Jaume\", \"Ceci\")"
      ],
      "metadata": {
        "id": "Slmq-dfUQiJG"
      },
      "execution_count": 44,
      "outputs": []
    },
    {
      "cell_type": "code",
      "source": [
        "avo.edad, avo.bff"
      ],
      "metadata": {
        "colab": {
          "base_uri": "https://localhost:8080/"
        },
        "id": "7nE2bGftSQUl",
        "outputId": "b50ca9a1-0d10-4562-e8d6-23f17df11c25"
      },
      "execution_count": 45,
      "outputs": [
        {
          "output_type": "execute_result",
          "data": {
            "text/plain": [
              "(18, 'Jaume')"
            ]
          },
          "metadata": {},
          "execution_count": 45
        }
      ]
    },
    {
      "cell_type": "code",
      "source": [
        "avo.saludar()"
      ],
      "metadata": {
        "colab": {
          "base_uri": "https://localhost:8080/"
        },
        "id": "EtVJmBj-So7l",
        "outputId": "53179dbd-1b9d-4af5-c8e5-5fbdc1a3faf5"
      },
      "execution_count": 46,
      "outputs": [
        {
          "output_type": "stream",
          "name": "stdout",
          "text": [
            "a los 18 conocí a mi amigo Jaume\n"
          ]
        }
      ]
    },
    {
      "cell_type": "code",
      "source": [
        "avo.chisme()"
      ],
      "metadata": {
        "colab": {
          "base_uri": "https://localhost:8080/"
        },
        "id": "qHCJh_d0T8s1",
        "outputId": "c6449712-5434-4ac5-8e7c-81b603ab1b79"
      },
      "execution_count": 47,
      "outputs": [
        {
          "output_type": "stream",
          "name": "stdout",
          "text": [
            "Alvaro está en el chisme con Jaume y con Ceci\n"
          ]
        }
      ]
    }
  ]
}