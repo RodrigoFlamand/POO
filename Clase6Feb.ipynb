{
  "nbformat": 4,
  "nbformat_minor": 0,
  "metadata": {
    "colab": {
      "provenance": []
    },
    "kernelspec": {
      "name": "python3",
      "display_name": "Python 3"
    },
    "language_info": {
      "name": "python"
    }
  },
  "cells": [
    {
      "cell_type": "markdown",
      "source": [
        "#Arreglos y Clases\n",
        "##Matrices\n",
        "Una matriz es un elemento de m por n elementos.\n",
        "Sea la matriz \\( A \\) de tamaño \\( m \\times n \\):\n",
        "\n",
        "A =\n",
        "\\begin{bmatrix}\n",
        "a_{11} & a_{12} & \\cdots & a_{1n} \\\\\n",
        "a_{21} & a_{22} & \\cdots & a_{2n} \\\\\n",
        "\\vdots & \\vdots & \\ddots & \\vdots \\\\\n",
        "a_{m1} & a_{m2} & \\cdots & a_{mn}\n",
        "\\end{bmatrix}\n"
      ],
      "metadata": {
        "id": "HNhCwYUQvfuU"
      }
    },
    {
      "cell_type": "code",
      "execution_count": 1,
      "metadata": {
        "colab": {
          "base_uri": "https://localhost:8080/"
        },
        "id": "C86nlAm1ve4-",
        "outputId": "15627a2d-de4f-486b-b6a6-c11983749d4f"
      },
      "outputs": [
        {
          "output_type": "stream",
          "name": "stdout",
          "text": [
            "[[1, 2, 3], [4, 5, 6], [7, 8, 9]]\n"
          ]
        }
      ],
      "source": [
        "A=[[1,2,3],[4,5,6],[7,8,9]]\n",
        "print (A)"
      ]
    },
    {
      "cell_type": "code",
      "source": [
        "B= [[21,34,40],[71,17,77],[78,81,28]]\n",
        "print (B)"
      ],
      "metadata": {
        "colab": {
          "base_uri": "https://localhost:8080/"
        },
        "id": "q4n99D3YyM1h",
        "outputId": "fc7cd4fe-d320-4304-de3b-0b3fff384ad1"
      },
      "execution_count": 3,
      "outputs": [
        {
          "output_type": "stream",
          "name": "stdout",
          "text": [
            "[[21, 34, 40], [71, 17, 77], [78, 81, 28]]\n"
          ]
        }
      ]
    },
    {
      "cell_type": "code",
      "source": [
        "A+B"
      ],
      "metadata": {
        "colab": {
          "base_uri": "https://localhost:8080/"
        },
        "id": "GNPYsgAjywfi",
        "outputId": "a142a7a3-6dde-45c7-f6d8-09c049ca26e5"
      },
      "execution_count": 4,
      "outputs": [
        {
          "output_type": "execute_result",
          "data": {
            "text/plain": [
              "[[1, 2, 3], [4, 5, 6], [7, 8, 9], [21, 34, 40], [71, 17, 77], [78, 81, 28]]"
            ]
          },
          "metadata": {},
          "execution_count": 4
        }
      ]
    },
    {
      "cell_type": "code",
      "source": [
        "2*A"
      ],
      "metadata": {
        "colab": {
          "base_uri": "https://localhost:8080/"
        },
        "id": "vxCHD0CwzSCD",
        "outputId": "c7ab842a-9b7c-41ac-825b-8948c882e954"
      },
      "execution_count": 5,
      "outputs": [
        {
          "output_type": "execute_result",
          "data": {
            "text/plain": [
              "[[1, 2, 3], [4, 5, 6], [7, 8, 9], [1, 2, 3], [4, 5, 6], [7, 8, 9]]"
            ]
          },
          "metadata": {},
          "execution_count": 5
        }
      ]
    },
    {
      "cell_type": "code",
      "source": [
        "A[0][0]\n",
        "[1,2,3]"
      ],
      "metadata": {
        "colab": {
          "base_uri": "https://localhost:8080/"
        },
        "id": "7jX3-BB50pv6",
        "outputId": "389b8c02-416d-4ca7-c407-5f119301a3da"
      },
      "execution_count": 6,
      "outputs": [
        {
          "output_type": "execute_result",
          "data": {
            "text/plain": [
              "[1, 2, 3]"
            ]
          },
          "metadata": {},
          "execution_count": 6
        }
      ]
    },
    {
      "cell_type": "markdown",
      "source": [
        "##Vectores y Listas\n",
        "L=A[0]"
      ],
      "metadata": {
        "id": "Nrdqj4GF1HrP"
      }
    },
    {
      "cell_type": "code",
      "source": [
        "L=A[0]\n",
        "M=B[0]"
      ],
      "metadata": {
        "id": "-FZMQCqh1FkS"
      },
      "execution_count": 7,
      "outputs": []
    },
    {
      "cell_type": "code",
      "source": [
        "a=L[0]\n",
        "b=M[0]\n",
        "a+b"
      ],
      "metadata": {
        "colab": {
          "base_uri": "https://localhost:8080/"
        },
        "id": "8oofdQra158C",
        "outputId": "ba442b31-8fdb-4064-9e1a-22ee0efea1e3"
      },
      "execution_count": 8,
      "outputs": [
        {
          "output_type": "execute_result",
          "data": {
            "text/plain": [
              "22"
            ]
          },
          "metadata": {},
          "execution_count": 8
        }
      ]
    },
    {
      "cell_type": "code",
      "source": [
        "a==1"
      ],
      "metadata": {
        "colab": {
          "base_uri": "https://localhost:8080/"
        },
        "id": "9ttNpCYh2VLA",
        "outputId": "421e605c-cce9-4883-c1f4-0103670a1f25"
      },
      "execution_count": 9,
      "outputs": [
        {
          "output_type": "execute_result",
          "data": {
            "text/plain": [
              "True"
            ]
          },
          "metadata": {},
          "execution_count": 9
        }
      ]
    },
    {
      "cell_type": "markdown",
      "source": [
        "###Suma de \"Vectores\""
      ],
      "metadata": {
        "id": "D4kwVpEJ35Iu"
      }
    },
    {
      "cell_type": "code",
      "source": [
        "len(L)==len(M)"
      ],
      "metadata": {
        "colab": {
          "base_uri": "https://localhost:8080/"
        },
        "id": "0L9n-dlx3_yZ",
        "outputId": "ea6fc95e-2d99-46d7-af66-b54efc623aee"
      },
      "execution_count": 10,
      "outputs": [
        {
          "output_type": "execute_result",
          "data": {
            "text/plain": [
              "True"
            ]
          },
          "metadata": {},
          "execution_count": 10
        }
      ]
    },
    {
      "cell_type": "code",
      "source": [
        "suma=[L[0]+M[0],L[1]+M[1],L[2]+M[2]]\n",
        "suma"
      ],
      "metadata": {
        "colab": {
          "base_uri": "https://localhost:8080/"
        },
        "id": "q5ls6yb14Z__",
        "outputId": "50a5c390-e073-48b2-9037-1ffc449c85dd"
      },
      "execution_count": 13,
      "outputs": [
        {
          "output_type": "execute_result",
          "data": {
            "text/plain": [
              "[22, 36, 43]"
            ]
          },
          "metadata": {},
          "execution_count": 13
        }
      ]
    },
    {
      "cell_type": "code",
      "source": [
        "suma=[L[i]+M[i] for i in range(3)]\n",
        "suma"
      ],
      "metadata": {
        "colab": {
          "base_uri": "https://localhost:8080/"
        },
        "id": "xlG4oTFZ5iUj",
        "outputId": "6f5709d7-15aa-4140-b1a7-5b1b5f60aad2"
      },
      "execution_count": 14,
      "outputs": [
        {
          "output_type": "execute_result",
          "data": {
            "text/plain": [
              "[22, 36, 43]"
            ]
          },
          "metadata": {},
          "execution_count": 14
        }
      ]
    },
    {
      "cell_type": "markdown",
      "source": [
        "##Creación de funciones globales\n",
        "\n",
        "La función para crear funcines es \"def¨ que se cierra con un debug (print or return)"
      ],
      "metadata": {
        "id": "EGWan2_NEKe0"
      }
    },
    {
      "cell_type": "code",
      "source": [
        "def Hola():\n",
        "  print(\"Hola,me llamo Rodrigo\")"
      ],
      "metadata": {
        "id": "7s4GpKwmE9Q2"
      },
      "execution_count": 15,
      "outputs": []
    },
    {
      "cell_type": "code",
      "source": [
        "Hola"
      ],
      "metadata": {
        "colab": {
          "base_uri": "https://localhost:8080/",
          "height": 103
        },
        "id": "ssJKL6u3FFbA",
        "outputId": "e8dd9aca-4bc0-4b06-9219-935e6cb48d83"
      },
      "execution_count": 16,
      "outputs": [
        {
          "output_type": "execute_result",
          "data": {
            "text/plain": [
              "<function __main__.Hola()>"
            ],
            "text/html": [
              "<div style=\"max-width:800px; border: 1px solid var(--colab-border-color);\"><style>\n",
              "      pre.function-repr-contents {\n",
              "        overflow-x: auto;\n",
              "        padding: 8px 12px;\n",
              "        max-height: 500px;\n",
              "      }\n",
              "\n",
              "      pre.function-repr-contents.function-repr-contents-collapsed {\n",
              "        cursor: pointer;\n",
              "        max-height: 100px;\n",
              "      }\n",
              "    </style>\n",
              "    <pre style=\"white-space: initial; background:\n",
              "         var(--colab-secondary-surface-color); padding: 8px 12px;\n",
              "         border-bottom: 1px solid var(--colab-border-color);\"><b>Hola</b><br/>def Hola()</pre><pre class=\"function-repr-contents function-repr-contents-collapsed\" style=\"\"><a class=\"filepath\" style=\"display:none\" href=\"#\">/content/&lt;ipython-input-15-658901aa3bf8&gt;</a>&lt;no docstring&gt;</pre></div>"
            ]
          },
          "metadata": {},
          "execution_count": 16
        }
      ]
    },
    {
      "cell_type": "code",
      "source": [
        "def Saludar(s,n):\n",
        "  print(f\"Hola,me llamo {s} y tengo {n} años\")"
      ],
      "metadata": {
        "id": "Pap_dWGAGEu1"
      },
      "execution_count": 24,
      "outputs": []
    },
    {
      "cell_type": "code",
      "source": [
        "Saludar(\"Rodrigo\",18)"
      ],
      "metadata": {
        "colab": {
          "base_uri": "https://localhost:8080/"
        },
        "id": "E-mVkjf0Gp_2",
        "outputId": "37bcd510-1175-4685-8a22-81d100d93dc4"
      },
      "execution_count": 25,
      "outputs": [
        {
          "output_type": "stream",
          "name": "stdout",
          "text": [
            "Hola,me llamo Rodrigo y tengo 18 años\n"
          ]
        }
      ]
    },
    {
      "cell_type": "code",
      "source": [
        "I = [ i for i in range{10}]\n",
        "\n",
        "def par():\n",
        "  for x in range(I):\n",
        "    if x%2==0:\n",
        "      print(f\"{x} es par \")\n",
        "    else:\n",
        "      print(f\"{x} es impar\")"
      ],
      "metadata": {
        "colab": {
          "base_uri": "https://localhost:8080/",
          "height": 106
        },
        "id": "jciGU_85HVtR",
        "outputId": "ad6f48c6-8c7b-4263-e6b3-7b738b745eaf"
      },
      "execution_count": 38,
      "outputs": [
        {
          "output_type": "error",
          "ename": "SyntaxError",
          "evalue": "invalid syntax (<ipython-input-38-a82953946f96>, line 1)",
          "traceback": [
            "\u001b[0;36m  File \u001b[0;32m\"<ipython-input-38-a82953946f96>\"\u001b[0;36m, line \u001b[0;32m1\u001b[0m\n\u001b[0;31m    I = [ i for i in range{10}]\u001b[0m\n\u001b[0m                          ^\u001b[0m\n\u001b[0;31mSyntaxError\u001b[0m\u001b[0;31m:\u001b[0m invalid syntax\n"
          ]
        }
      ]
    },
    {
      "cell_type": "code",
      "source": [
        "par(20)"
      ],
      "metadata": {
        "colab": {
          "base_uri": "https://localhost:8080/"
        },
        "id": "y7Ppu6jjI1Tl",
        "outputId": "3a24b467-b273-4b96-f3d2-187003e83c9a"
      },
      "execution_count": 32,
      "outputs": [
        {
          "output_type": "stream",
          "name": "stdout",
          "text": [
            "0 es par \n",
            "1 es impar\n",
            "2 es par \n",
            "3 es impar\n",
            "4 es par \n",
            "5 es impar\n",
            "6 es par \n",
            "7 es impar\n",
            "8 es par \n",
            "9 es impar\n"
          ]
        }
      ]
    },
    {
      "cell_type": "code",
      "source": [
        "def suma_vectorial(L,M):\n",
        "  x = [L[i]+M[i] for i in range(len(L))]\n",
        "  return x"
      ],
      "metadata": {
        "id": "gotutfByI3ND"
      },
      "execution_count": 44,
      "outputs": []
    },
    {
      "cell_type": "code",
      "source": [
        "L = [1,2,3]\n",
        "M=[21,34,40]\n",
        "\n",
        "suma_vectorial(L,M)"
      ],
      "metadata": {
        "colab": {
          "base_uri": "https://localhost:8080/"
        },
        "id": "TDTcFMIXL_pG",
        "outputId": "35d9e1f3-df50-4b03-83cc-214a128c4d32"
      },
      "execution_count": 45,
      "outputs": [
        {
          "output_type": "execute_result",
          "data": {
            "text/plain": [
              "[22, 36, 43]"
            ]
          },
          "metadata": {},
          "execution_count": 45
        }
      ]
    },
    {
      "cell_type": "markdown",
      "source": [
        "##Módulos o librerías\n"
      ],
      "metadata": {
        "id": "s4QnGRQTMwEz"
      }
    },
    {
      "cell_type": "code",
      "source": [
        "import math\n",
        "from math import sqrt, pi"
      ],
      "metadata": {
        "id": "fcTKyRcnNuOB"
      },
      "execution_count": 47,
      "outputs": []
    },
    {
      "cell_type": "code",
      "source": [
        "sqrt(68)"
      ],
      "metadata": {
        "colab": {
          "base_uri": "https://localhost:8080/"
        },
        "id": "5PHX1udOOGTt",
        "outputId": "65a74441-faf1-4dde-e5be-5a09af28aaa5"
      },
      "execution_count": 48,
      "outputs": [
        {
          "output_type": "execute_result",
          "data": {
            "text/plain": [
              "8.246211251235321"
            ]
          },
          "metadata": {},
          "execution_count": 48
        }
      ]
    },
    {
      "cell_type": "code",
      "source": [
        "pi"
      ],
      "metadata": {
        "colab": {
          "base_uri": "https://localhost:8080/"
        },
        "id": "Wum035F_OQgJ",
        "outputId": "31126fc6-ebcc-4a06-bf1d-0128e78ad12a"
      },
      "execution_count": 49,
      "outputs": [
        {
          "output_type": "execute_result",
          "data": {
            "text/plain": [
              "3.141592653589793"
            ]
          },
          "metadata": {},
          "execution_count": 49
        }
      ]
    },
    {
      "cell_type": "markdown",
      "source": [
        "#El Modulo Numpy\n",
        "La función array\n"
      ],
      "metadata": {
        "id": "w_TZzzIPOm0C"
      }
    },
    {
      "cell_type": "code",
      "source": [
        "import numpy as np\n",
        "\n",
        "L_vector = np.array(L)\n",
        "M_vector = np.array(M)\n",
        "\n",
        "L_vector + M_vector"
      ],
      "metadata": {
        "colab": {
          "base_uri": "https://localhost:8080/"
        },
        "id": "SGrKegw6OqNz",
        "outputId": "551dec9a-02d6-4137-83c4-d776262d5bae"
      },
      "execution_count": 56,
      "outputs": [
        {
          "output_type": "execute_result",
          "data": {
            "text/plain": [
              "array([22, 36, 43])"
            ]
          },
          "metadata": {},
          "execution_count": 56
        }
      ]
    },
    {
      "cell_type": "code",
      "source": [
        "C=[9,2,2,2,3,3,2,17,2]\n",
        "A = [8,1,1,1,2,2,1,16,1]\n",
        "\n",
        "C_matriz = np.array(C).reshape(3,3)\n",
        "A_matriz = np.array(A).reshape(3,3)\n",
        "\n",
        "print(C_matriz)\n",
        "print(A_matriz)"
      ],
      "metadata": {
        "colab": {
          "base_uri": "https://localhost:8080/"
        },
        "id": "nLLycEVtPxg3",
        "outputId": "4ffbb923-5107-44fe-a3f6-8e0d6d306ad6"
      },
      "execution_count": 60,
      "outputs": [
        {
          "output_type": "stream",
          "name": "stdout",
          "text": [
            "[[ 9  2  2]\n",
            " [ 2  3  3]\n",
            " [ 2 17  2]]\n",
            "[[ 8  1  1]\n",
            " [ 1  2  2]\n",
            " [ 1 16  1]]\n"
          ]
        }
      ]
    },
    {
      "cell_type": "code",
      "source": [
        "A_matriz @ A_matriz"
      ],
      "metadata": {
        "colab": {
          "base_uri": "https://localhost:8080/"
        },
        "id": "F3ecK8U1RNwp",
        "outputId": "dcdfce1f-4349-4daa-ad0e-a6cbc59bb056"
      },
      "execution_count": 61,
      "outputs": [
        {
          "output_type": "execute_result",
          "data": {
            "text/plain": [
              "array([[66, 26, 11],\n",
              "       [12, 37,  7],\n",
              "       [25, 49, 34]])"
            ]
          },
          "metadata": {},
          "execution_count": 61
        }
      ]
    },
    {
      "cell_type": "code",
      "source": [
        "A_matriz @ C_matriz"
      ],
      "metadata": {
        "colab": {
          "base_uri": "https://localhost:8080/"
        },
        "id": "6l-49rcvRUe2",
        "outputId": "f4fdb1af-5816-4ff8-91ab-250c63e92991"
      },
      "execution_count": 62,
      "outputs": [
        {
          "output_type": "execute_result",
          "data": {
            "text/plain": [
              "array([[76, 36, 21],\n",
              "       [17, 42, 12],\n",
              "       [43, 67, 52]])"
            ]
          },
          "metadata": {},
          "execution_count": 62
        }
      ]
    }
  ]
}