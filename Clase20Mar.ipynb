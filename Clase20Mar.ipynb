{
  "nbformat": 4,
  "nbformat_minor": 0,
  "metadata": {
    "colab": {
      "provenance": []
    },
    "kernelspec": {
      "name": "python3",
      "display_name": "Python 3"
    },
    "language_info": {
      "name": "python"
    }
  },
  "cells": [
    {
      "cell_type": "markdown",
      "source": [
        "# Manejo de exepciones\n",
        "\n",
        "Las funciones a usar son\n",
        "\n",
        "# try:\n",
        "  bloque de condicion\n",
        " except:\n",
        "  bloque de exepciones\n",
        "\n",
        "Vamos a usar una función que se llama assert."
      ],
      "metadata": {
        "id": "80NPkwMVCQqE"
      }
    },
    {
      "cell_type": "code",
      "execution_count": null,
      "metadata": {
        "id": "UdZ4nPzIBUZ2"
      },
      "outputs": [],
      "source": [
        "def division(a,b):\n",
        "  return a/b"
      ]
    },
    {
      "cell_type": "code",
      "source": [
        "division(1,0)"
      ],
      "metadata": {
        "colab": {
          "base_uri": "https://localhost:8080/",
          "height": 211
        },
        "id": "YJmEn9VECbQF",
        "outputId": "7e124ba8-b8c1-4163-f172-50741c9a14fc"
      },
      "execution_count": null,
      "outputs": [
        {
          "output_type": "error",
          "ename": "ZeroDivisionError",
          "evalue": "division by zero",
          "traceback": [
            "\u001b[0;31m---------------------------------------------------------------------------\u001b[0m",
            "\u001b[0;31mZeroDivisionError\u001b[0m                         Traceback (most recent call last)",
            "\u001b[0;32m<ipython-input-4-b1a4f064b07e>\u001b[0m in \u001b[0;36m<cell line: 0>\u001b[0;34m()\u001b[0m\n\u001b[0;32m----> 1\u001b[0;31m \u001b[0mdivision\u001b[0m\u001b[0;34m(\u001b[0m\u001b[0;36m1\u001b[0m\u001b[0;34m,\u001b[0m\u001b[0;36m0\u001b[0m\u001b[0;34m)\u001b[0m\u001b[0;34m\u001b[0m\u001b[0;34m\u001b[0m\u001b[0m\n\u001b[0m",
            "\u001b[0;32m<ipython-input-1-5117be529140>\u001b[0m in \u001b[0;36mdivision\u001b[0;34m(a, b)\u001b[0m\n\u001b[1;32m      1\u001b[0m \u001b[0;32mdef\u001b[0m \u001b[0mdivision\u001b[0m\u001b[0;34m(\u001b[0m\u001b[0ma\u001b[0m\u001b[0;34m,\u001b[0m\u001b[0mb\u001b[0m\u001b[0;34m)\u001b[0m\u001b[0;34m:\u001b[0m\u001b[0;34m\u001b[0m\u001b[0;34m\u001b[0m\u001b[0m\n\u001b[0;32m----> 2\u001b[0;31m   \u001b[0;32mreturn\u001b[0m \u001b[0ma\u001b[0m\u001b[0;34m/\u001b[0m\u001b[0mb\u001b[0m\u001b[0;34m\u001b[0m\u001b[0;34m\u001b[0m\u001b[0m\n\u001b[0m",
            "\u001b[0;31mZeroDivisionError\u001b[0m: division by zero"
          ]
        }
      ]
    },
    {
      "cell_type": "code",
      "source": [
        "a=5\n",
        "\n",
        "b=0\n",
        "\n",
        "try:\n",
        "  c=a/b\n",
        "except ZeroDivisionError:\n",
        "  print(\"Alvaro, no dividas entre 0\")"
      ],
      "metadata": {
        "colab": {
          "base_uri": "https://localhost:8080/"
        },
        "id": "Ga6E1KrSCvh8",
        "outputId": "7e369f8d-39c6-4eb6-8d0b-500e3fdc6c8d"
      },
      "execution_count": null,
      "outputs": [
        {
          "output_type": "stream",
          "name": "stdout",
          "text": [
            "Alvaro, no dividas entre 0\n"
          ]
        }
      ]
    },
    {
      "cell_type": "code",
      "source": [
        "2 + \"Ceci\""
      ],
      "metadata": {
        "colab": {
          "base_uri": "https://localhost:8080/",
          "height": 141
        },
        "id": "EkE_GQVhECJ-",
        "outputId": "7489ebaa-7ab8-4f4a-88df-0c5f35dbbf7d"
      },
      "execution_count": null,
      "outputs": [
        {
          "output_type": "error",
          "ename": "TypeError",
          "evalue": "unsupported operand type(s) for +: 'int' and 'str'",
          "traceback": [
            "\u001b[0;31m---------------------------------------------------------------------------\u001b[0m",
            "\u001b[0;31mTypeError\u001b[0m                                 Traceback (most recent call last)",
            "\u001b[0;32m<ipython-input-5-dbfb5d65234c>\u001b[0m in \u001b[0;36m<cell line: 0>\u001b[0;34m()\u001b[0m\n\u001b[0;32m----> 1\u001b[0;31m \u001b[0;36m2\u001b[0m \u001b[0;34m+\u001b[0m \u001b[0;34m\"Ceci\"\u001b[0m\u001b[0;34m\u001b[0m\u001b[0;34m\u001b[0m\u001b[0m\n\u001b[0m",
            "\u001b[0;31mTypeError\u001b[0m: unsupported operand type(s) for +: 'int' and 'str'"
          ]
        }
      ]
    },
    {
      "cell_type": "code",
      "source": [
        "#Ejemplo 2\n",
        "\n",
        "try :\n",
        "  d= 2+ \"Ceci\"\n",
        "except TypeError:\n",
        "  print(\"¡Cuidado! La suma debe ser sobre los mismos objetos\")"
      ],
      "metadata": {
        "colab": {
          "base_uri": "https://localhost:8080/"
        },
        "id": "-KtD0OHGD236",
        "outputId": "3e5ebd74-2640-4a0c-b34a-51a4b31aa192"
      },
      "execution_count": null,
      "outputs": [
        {
          "output_type": "stream",
          "name": "stdout",
          "text": [
            "¡Cuidado! La suma debe ser sobre los mismos objetos\n"
          ]
        }
      ]
    },
    {
      "cell_type": "code",
      "source": [
        "#Vamos a redifinir nuestra definición de división\n",
        "\n",
        "def division(a,b):\n",
        "  try:\n",
        "    c=a/b\n",
        "    print(\"Resultado de la division\",c)\n",
        "  except ZeroDivisionError:\n",
        "    print(\"Jaume, no dividas entre cero\")\n",
        "  except TypeError:\n",
        "    print(\"No dividas entre un número string\")\n"
      ],
      "metadata": {
        "id": "TxcjzJKcE00R"
      },
      "execution_count": null,
      "outputs": []
    },
    {
      "cell_type": "code",
      "source": [
        "division(5,0)"
      ],
      "metadata": {
        "colab": {
          "base_uri": "https://localhost:8080/"
        },
        "id": "yOnzXH1yGi-6",
        "outputId": "d0ffb6ae-dbf6-4cde-9846-07f2f5ef7f2d"
      },
      "execution_count": null,
      "outputs": [
        {
          "output_type": "stream",
          "name": "stdout",
          "text": [
            "Jaume, no dividas entre cero\n"
          ]
        }
      ]
    },
    {
      "cell_type": "code",
      "source": [
        "division(2,\"Ceci\")"
      ],
      "metadata": {
        "colab": {
          "base_uri": "https://localhost:8080/"
        },
        "id": "ZHg3jhCSGnE6",
        "outputId": "6cf414af-beb0-417e-fff9-c2ae6ed68765"
      },
      "execution_count": null,
      "outputs": [
        {
          "output_type": "stream",
          "name": "stdout",
          "text": [
            "No dividas entre un número string\n"
          ]
        }
      ]
    },
    {
      "cell_type": "code",
      "source": [
        "division(2,3)"
      ],
      "metadata": {
        "colab": {
          "base_uri": "https://localhost:8080/"
        },
        "id": "CpLLz7PRHY1y",
        "outputId": "3952fbb2-d48f-4cf6-f24b-fdb3a989c5d2"
      },
      "execution_count": null,
      "outputs": [
        {
          "output_type": "stream",
          "name": "stdout",
          "text": [
            "Resultado de la division 0.6666666666666666\n"
          ]
        }
      ]
    },
    {
      "cell_type": "markdown",
      "source": [
        "# La funcion assert"
      ],
      "metadata": {
        "id": "7m4UxKpEHuXF"
      }
    },
    {
      "cell_type": "code",
      "source": [
        "assert(1==2)"
      ],
      "metadata": {
        "colab": {
          "base_uri": "https://localhost:8080/",
          "height": 141
        },
        "id": "s3bwuH3sGthu",
        "outputId": "7fe6d37f-f286-4462-bd9a-fc9b719b2c80"
      },
      "execution_count": null,
      "outputs": [
        {
          "output_type": "error",
          "ename": "AssertionError",
          "evalue": "",
          "traceback": [
            "\u001b[0;31m---------------------------------------------------------------------------\u001b[0m",
            "\u001b[0;31mAssertionError\u001b[0m                            Traceback (most recent call last)",
            "\u001b[0;32m<ipython-input-14-91d16dafa3fa>\u001b[0m in \u001b[0;36m<cell line: 0>\u001b[0;34m()\u001b[0m\n\u001b[0;32m----> 1\u001b[0;31m \u001b[0;32massert\u001b[0m\u001b[0;34m(\u001b[0m\u001b[0;36m1\u001b[0m\u001b[0;34m==\u001b[0m\u001b[0;36m2\u001b[0m\u001b[0;34m)\u001b[0m\u001b[0;34m\u001b[0m\u001b[0;34m\u001b[0m\u001b[0m\n\u001b[0m",
            "\u001b[0;31mAssertionError\u001b[0m: "
          ]
        }
      ]
    },
    {
      "cell_type": "code",
      "source": [
        "def calcular_media(L):\n",
        "  z = sum(L)/len(L)\n",
        "  return z"
      ],
      "metadata": {
        "id": "PFn5ahygIDI9"
      },
      "execution_count": null,
      "outputs": []
    },
    {
      "cell_type": "code",
      "source": [
        "calcular_media((17, 19, 25.0, -2))"
      ],
      "metadata": {
        "colab": {
          "base_uri": "https://localhost:8080/"
        },
        "id": "hGnbAOHZJ6hw",
        "outputId": "769556d8-d980-43f7-c110-b916e37318c1"
      },
      "execution_count": null,
      "outputs": [
        {
          "output_type": "execute_result",
          "data": {
            "text/plain": [
              "14.75"
            ]
          },
          "metadata": {},
          "execution_count": 18
        }
      ]
    },
    {
      "cell_type": "code",
      "source": [
        "assert(calcular_media([17,19,25.0,-2])==14.75)"
      ],
      "metadata": {
        "id": "ZKsdhFWyKHYe"
      },
      "execution_count": null,
      "outputs": []
    },
    {
      "cell_type": "code",
      "source": [],
      "metadata": {
        "id": "-IijziPCKfPY"
      },
      "execution_count": null,
      "outputs": []
    },
    {
      "cell_type": "code",
      "source": [],
      "metadata": {
        "id": "HAdQj-lQLK2P"
      },
      "execution_count": null,
      "outputs": []
    }
  ]
}