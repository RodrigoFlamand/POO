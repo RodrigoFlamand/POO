{
  "nbformat": 4,
  "nbformat_minor": 0,
  "metadata": {
    "colab": {
      "provenance": []
    },
    "kernelspec": {
      "name": "python3",
      "display_name": "Python 3"
    },
    "language_info": {
      "name": "python"
    }
  },
  "cells": [
    {
      "cell_type": "markdown",
      "source": [
        "# Introducción a Python\n",
        "Python es un lenguaje de programación de alto nivel, fácil de aprender y ampliamente utilizado en diversas áreas como desarrollo web, análisis de datos, inteligencia artificial y automatización. Creado por Guido van Rossum en 1991, destaca por su sintaxis clara, su naturaleza interpretada y su compatibilidad con múltiples paradigmas de programación. Gracias a su extensa biblioteca estándar, gran comunidad y compatibilidad multiplataforma, Python se adapta tanto a principiantes como a desarrolladores avanzados, convirtiéndose en una herramienta versátil para resolver problemas complejos y crear aplicaciones innovadoras.\n",
        "## ¿Qué veremos hoy?\n",
        "1.   Objetos\n",
        "2.   Variables\n",
        "3.   Ejemplo\n",
        "\n",
        "**Nota: En este procesador de texto se puede escribir en html y en latex.\n",
        "Por ejemplo, vamos a escribir la ecuación más hermosa de todas:**\n",
        "$$e^{i\\pi}+1=0$$\n",
        "\n",
        "Otro ejemplo:\n",
        "\n",
        "\\begin{bmatrix}\n",
        "a_{11} & a_{12} & a_{13} \\\\\n",
        "a_{21} & a_{22} & a_{23} \\\\\n",
        "a_{31} & a_{32} & a_{33}\n",
        "\\end{bmatrix}\n",
        "\n",
        "### Algunos objetos en Python\n",
        "1. int y float\n",
        "2. str (\"string)\n",
        "3. Conjuntos y listas\n",
        "\n",
        "---\n",
        "\n",
        "**La función `print` y la función `type`\n",
        " **\n",
        "\n",
        "#### Operación Básica int y float\n",
        "\n",
        "\n",
        "*   $+,-$ Suma y resta\n",
        "*   $*,/,**$ Multiplicación, dividir y potenciar.\n",
        "*   $\\%$ Operación modular\n",
        "*   $//$  Divisipon al piso\n",
        "\n",
        "**Creación de variable**\n",
        "nombre = objeto\n",
        "\n",
        "\n",
        "\n",
        "\n",
        "\n"
      ],
      "metadata": {
        "id": "gGxH7rmLqQGn"
      }
    },
    {
      "cell_type": "code",
      "execution_count": 10,
      "metadata": {
        "id": "fw5J_xzrpXyq"
      },
      "outputs": [],
      "source": [
        "#Creación de dos variables\n",
        "x = 7\n",
        "y = 3"
      ]
    },
    {
      "cell_type": "code",
      "source": [
        "#Operaciones\n",
        "print (f\"La suma entre {x} y {y} es {x+y}\")\n",
        "print (f\"La potenciación entre {x} y {y} es {x**y}\")\n",
        "print (f\"El residuo entre {x} y {y} es {x%y}\")\n",
        "print (f\"La división al piso entre {x} y {y} es {x//y}\")\n"
      ],
      "metadata": {
        "colab": {
          "base_uri": "https://localhost:8080/"
        },
        "id": "g7225HPuHFDj",
        "outputId": "1c775af4-b57b-498b-e313-4402d95885ea"
      },
      "execution_count": 11,
      "outputs": [
        {
          "output_type": "stream",
          "name": "stdout",
          "text": [
            "La suma entre 7 y 3 es 10\n",
            "La potenciación entre 7 y 3 es 343\n",
            "El residuo entre 7 y 3 es 1\n",
            "La división al piso entre 7 y 3 es 2\n"
          ]
        }
      ]
    },
    {
      "cell_type": "code",
      "source": [
        "#La función nos dice el tipo de objeto que se usa\n",
        "type(x/y)"
      ],
      "metadata": {
        "colab": {
          "base_uri": "https://localhost:8080/"
        },
        "id": "oHjG04wAI4MN",
        "outputId": "075e90e3-7411-4fd4-990f-8145007f9171"
      },
      "execution_count": 12,
      "outputs": [
        {
          "output_type": "execute_result",
          "data": {
            "text/plain": [
              "float"
            ]
          },
          "metadata": {},
          "execution_count": 12
        }
      ]
    },
    {
      "cell_type": "code",
      "source": [
        "print(\"Hello World\")\n",
        "\n"
      ],
      "metadata": {
        "colab": {
          "base_uri": "https://localhost:8080/"
        },
        "id": "JXHsV2cPs5gQ",
        "outputId": "2c4f4818-9226-4945-e927-2bb3c5c85f08"
      },
      "execution_count": 2,
      "outputs": [
        {
          "output_type": "stream",
          "name": "stdout",
          "text": [
            "Hello World\n"
          ]
        }
      ]
    }
  ]
}