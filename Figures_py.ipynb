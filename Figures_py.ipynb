{
  "nbformat": 4,
  "nbformat_minor": 0,
  "metadata": {
    "colab": {
      "provenance": []
    },
    "kernelspec": {
      "name": "python3",
      "display_name": "Python 3"
    },
    "language_info": {
      "name": "python"
    }
  },
  "cells": [
    {
      "cell_type": "code",
      "execution_count": 2,
      "metadata": {
        "id": "54P4JCnnVoWD"
      },
      "outputs": [],
      "source": [
        "import math\n",
        "\n",
        "\n",
        "class Figura:\n",
        "\n",
        "    def __init__(self,nombre):\n",
        "        self.nombre = nombre\n",
        "        self.area = None\n",
        "        self.perimetro = None\n",
        "\n",
        "    def calcular_area(self):\n",
        "        pass\n",
        "\n",
        "    def calcular_perimetro(self):\n",
        "        pass\n",
        "\n",
        "    def mostrarInfo(self):\n",
        "        self.calcular_area()\n",
        "        self.calcular_area()\n",
        "        print(f\"Nombre de la figura {self.nombre}\")\n",
        "        print(f\"Área de la figura {self.area}\")\n",
        "        print(f\"Perímetro de la figura {self.perimetro}\")\n",
        "\n",
        "class Circulo(Figura):\n",
        "    def __init__(self, nombre, radio):\n",
        "        super().__init__(nombre)\n",
        "        self.radio = radio\n",
        "\n",
        "    def calcular_area(self):\n",
        "        return math.pi * self.radio**2\n",
        "\n",
        "\n",
        "    def calcular_perimetro(self):\n",
        "        return 2 * math.pi * self.radio\n",
        "class Rectangulo(Figura):\n",
        "    def __init__(self, longitud, base):\n",
        "        self.longitud = longitud\n",
        "        self.base = base\n",
        "\n",
        "    def calcular_area(self):\n",
        "        return self.longitud * self.base\n",
        "\n",
        "    def calcular_perimetro(self):\n",
        "        return 2 * (self.longitud + self.base)\n",
        "\n",
        "class Triangulo(Figura):\n",
        "\n",
        "    def __init__(self, base, altura, lado1, lado2, lado3):\n",
        "        self.base = base\n",
        "        self.altura = altura\n",
        "        self.lado1 = lado1\n",
        "        self.lado2 = lado2\n",
        "        self.lado3 = lado3\n",
        "\n",
        "    def calcular_area(self):\n",
        "        return 0.5 * self.base * self.altura\n",
        "\n",
        "    def calcular_perimetro(self):\n",
        "        return self.lado1 + self.lado2 + self.lado3"
      ]
    },
    {
      "cell_type": "code",
      "source": [
        "import Figures\n",
        "from Figures import *"
      ],
      "metadata": {
        "colab": {
          "base_uri": "https://localhost:8080/",
          "height": 333
        },
        "id": "cXWVbJ3BkuAp",
        "outputId": "3ef6179e-1e67-4eda-ff36-61475a44cf1a"
      },
      "execution_count": 3,
      "outputs": [
        {
          "output_type": "error",
          "ename": "ModuleNotFoundError",
          "evalue": "No module named 'Figures'",
          "traceback": [
            "\u001b[0;31m---------------------------------------------------------------------------\u001b[0m",
            "\u001b[0;31mModuleNotFoundError\u001b[0m                       Traceback (most recent call last)",
            "\u001b[0;32m<ipython-input-3-df36ba666179>\u001b[0m in \u001b[0;36m<cell line: 0>\u001b[0;34m()\u001b[0m\n\u001b[0;32m----> 1\u001b[0;31m \u001b[0;32mimport\u001b[0m \u001b[0mFigures\u001b[0m\u001b[0;34m\u001b[0m\u001b[0;34m\u001b[0m\u001b[0m\n\u001b[0m\u001b[1;32m      2\u001b[0m \u001b[0;32mfrom\u001b[0m \u001b[0mFigures\u001b[0m \u001b[0;32mimport\u001b[0m \u001b[0;34m*\u001b[0m\u001b[0;34m\u001b[0m\u001b[0;34m\u001b[0m\u001b[0m\n",
            "\u001b[0;31mModuleNotFoundError\u001b[0m: No module named 'Figures'",
            "",
            "\u001b[0;31m---------------------------------------------------------------------------\u001b[0;32m\nNOTE: If your import is failing due to a missing package, you can\nmanually install dependencies using either !pip or !apt.\n\nTo view examples of installing some common dependencies, click the\n\"Open Examples\" button below.\n\u001b[0;31m---------------------------------------------------------------------------\u001b[0m\n"
          ],
          "errorDetails": {
            "actions": [
              {
                "action": "open_url",
                "actionText": "Open Examples",
                "url": "/notebooks/snippets/importing_libraries.ipynb"
              }
            ]
          }
        }
      ]
    },
    {
      "cell_type": "code",
      "source": [
        "fig_1=Figura(\"circulo\")\n",
        "circulo= Circulo(\"circulo\",2)\n",
        "circulo"
      ],
      "metadata": {
        "id": "Y8ge7eeck1pt"
      },
      "execution_count": null,
      "outputs": []
    },
    {
      "cell_type": "code",
      "source": [
        "circulo.calcular_area()"
      ],
      "metadata": {
        "id": "Mp0wzH0zlDaB"
      },
      "execution_count": null,
      "outputs": []
    },
    {
      "cell_type": "code",
      "source": [
        "fig_2=Figura(\"triangulo\")\n",
        "triangulo= Triangulo(\"triangulo\", 2,3,4,2)\n",
        "triangulo.calcular"
      ],
      "metadata": {
        "id": "Sk1DMrDHlHTx"
      },
      "execution_count": null,
      "outputs": []
    }
  ]
}