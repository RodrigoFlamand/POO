{
  "nbformat": 4,
  "nbformat_minor": 0,
  "metadata": {
    "colab": {
      "provenance": []
    },
    "kernelspec": {
      "name": "python3",
      "display_name": "Python 3"
    },
    "language_info": {
      "name": "python"
    }
  },
  "cells": [
    {
      "cell_type": "code",
      "execution_count": null,
      "metadata": {
        "colab": {
          "base_uri": "https://localhost:8080/"
        },
        "id": "1KFje5pyblj2",
        "outputId": "988777ea-8e1b-4a13-a50b-2810ee3c4761"
      },
      "outputs": [
        {
          "output_type": "execute_result",
          "data": {
            "text/plain": [
              "range(0, 10)"
            ]
          },
          "metadata": {},
          "execution_count": 1
        }
      ],
      "source": [
        "range(10)"
      ]
    },
    {
      "cell_type": "markdown",
      "source": [
        "- --\n",
        "# Conjuntos y listas\n",
        "\n",
        "-Conjuntos finitos:\n",
        "$$\\{o_1, o_2, \\dots, o_n\\}$$\n",
        "\n",
        "-Listas Finitas:\n",
        "$$[l_1, l_2, \\dots, l_n ]$$\n",
        "\n",
        "\n",
        "En Python, existe la función\n",
        "range(a,b) donde"
      ],
      "metadata": {
        "id": "fQo3oDcScgPp"
      }
    },
    {
      "cell_type": "code",
      "source": [],
      "metadata": {
        "id": "gz9HwvB0iSeD"
      },
      "execution_count": null,
      "outputs": []
    },
    {
      "cell_type": "markdown",
      "source": [
        "¿Como puedo ver a los elementos de este generador?\n"
      ],
      "metadata": {
        "id": "R8dhNvcef_U2"
      }
    },
    {
      "cell_type": "code",
      "source": [
        "for i in range(10) : print(i)"
      ],
      "metadata": {
        "colab": {
          "base_uri": "https://localhost:8080/"
        },
        "id": "4SMOh-xZgLAr",
        "outputId": "2a17a986-8638-4685-b91c-bd4eb3278c2f"
      },
      "execution_count": null,
      "outputs": [
        {
          "output_type": "stream",
          "name": "stdout",
          "text": [
            "0\n",
            "1\n",
            "2\n",
            "3\n",
            "4\n",
            "5\n",
            "6\n",
            "7\n",
            "8\n",
            "9\n"
          ]
        }
      ]
    },
    {
      "cell_type": "code",
      "source": [
        "#Dos conjuntos\n",
        "\n",
        "Pares = {i for i in range (21) if i%2==0}\n",
        "print(f\"Pares: {Pares}\")\n",
        "Impares = {i for i in range(21) if i%2==1}\n",
        "print(f\"Impares: {Impares}\")\n",
        "C= {17,7,27,19,77,56,8,12,10,13,20,16}\n",
        "C, type(C)"
      ],
      "metadata": {
        "colab": {
          "base_uri": "https://localhost:8080/"
        },
        "id": "V2kvAf8khOdx",
        "outputId": "f81b90df-a8d7-4086-c301-52c3ce847612"
      },
      "execution_count": null,
      "outputs": [
        {
          "output_type": "stream",
          "name": "stdout",
          "text": [
            "Pares: {0, 2, 4, 6, 8, 10, 12, 14, 16, 18, 20}\n",
            "Impares: {1, 3, 5, 7, 9, 11, 13, 15, 17, 19}\n"
          ]
        },
        {
          "output_type": "execute_result",
          "data": {
            "text/plain": [
              "({7, 8, 10, 12, 13, 16, 17, 19, 20, 27, 56, 77}, set)"
            ]
          },
          "metadata": {},
          "execution_count": 11
        }
      ]
    },
    {
      "cell_type": "markdown",
      "source": [
        "## Los objetos en Python tienen atributos\n",
        "\n"
      ],
      "metadata": {
        "id": "aaNZTH08kIIt"
      }
    },
    {
      "cell_type": "code",
      "source": [
        "Pares.intersection(Impares) #Conjunto vacío\n"
      ],
      "metadata": {
        "colab": {
          "base_uri": "https://localhost:8080/"
        },
        "id": "a8x7woCFk1mh",
        "outputId": "801b9cb4-2ddc-4589-a84e-70a86c1d25d9"
      },
      "execution_count": null,
      "outputs": [
        {
          "output_type": "execute_result",
          "data": {
            "text/plain": [
              "set()"
            ]
          },
          "metadata": {},
          "execution_count": 12
        }
      ]
    },
    {
      "cell_type": "code",
      "source": [
        "Pares.union(Impares)"
      ],
      "metadata": {
        "colab": {
          "base_uri": "https://localhost:8080/"
        },
        "id": "sdEwR2XslH2G",
        "outputId": "070c70cf-749f-4dc7-9823-bbc5abd897fb"
      },
      "execution_count": null,
      "outputs": [
        {
          "output_type": "execute_result",
          "data": {
            "text/plain": [
              "{0, 1, 2, 3, 4, 5, 6, 7, 8, 9, 10, 11, 12, 13, 14, 15, 16, 17, 18, 19, 20}"
            ]
          },
          "metadata": {},
          "execution_count": 13
        }
      ]
    },
    {
      "cell_type": "code",
      "source": [
        "Impares.difference(C)"
      ],
      "metadata": {
        "colab": {
          "base_uri": "https://localhost:8080/"
        },
        "id": "_DcuIu01lMOd",
        "outputId": "1e080082-3f84-4975-ac48-0698f7cff8ba"
      },
      "execution_count": null,
      "outputs": [
        {
          "output_type": "execute_result",
          "data": {
            "text/plain": [
              "{1, 3, 5, 9, 11, 15}"
            ]
          },
          "metadata": {},
          "execution_count": 16
        }
      ]
    },
    {
      "cell_type": "markdown",
      "source": [
        "#Listas"
      ],
      "metadata": {
        "id": "UNb-CSsllzOQ"
      }
    },
    {
      "cell_type": "code",
      "source": [
        "Lista_pares = list(Pares)\n",
        "Lista_pares"
      ],
      "metadata": {
        "colab": {
          "base_uri": "https://localhost:8080/"
        },
        "id": "g1rrCbqsl1By",
        "outputId": "e78f7a15-9000-490f-d751-84ee5c3f005d"
      },
      "execution_count": null,
      "outputs": [
        {
          "output_type": "execute_result",
          "data": {
            "text/plain": [
              "[0, 2, 4, 6, 8, 10, 12, 14, 16, 18, 20]"
            ]
          },
          "metadata": {},
          "execution_count": 18
        }
      ]
    }
  ]
}