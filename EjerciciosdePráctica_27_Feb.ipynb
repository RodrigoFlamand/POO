{
  "nbformat": 4,
  "nbformat_minor": 0,
  "metadata": {
    "colab": {
      "provenance": []
    },
    "kernelspec": {
      "name": "python3",
      "display_name": "Python 3"
    },
    "language_info": {
      "name": "python"
    }
  },
  "cells": [
    {
      "cell_type": "code",
      "execution_count": 1,
      "metadata": {
        "colab": {
          "base_uri": "https://localhost:8080/"
        },
        "id": "R4ERvK5t5Vz-",
        "outputId": "97eafd8f-16c1-472d-d3ac-c263a82fac93"
      },
      "outputs": [
        {
          "output_type": "stream",
          "name": "stdout",
          "text": [
            "Hola, Mundo!\n"
          ]
        }
      ],
      "source": [
        "# 1. Imprime \"Hola, Mundo!\"\n",
        "print(\"Hola, Mundo!\")"
      ]
    },
    {
      "cell_type": "code",
      "source": [
        "# 2. Declara una variable llamada nombre e imprime su valor\n",
        "nombre = \"Juan\"\n",
        "print(nombre)"
      ],
      "metadata": {
        "colab": {
          "base_uri": "https://localhost:8080/"
        },
        "id": "coBqyIjU5mT0",
        "outputId": "8b790de5-5090-4104-c472-95e418b71e90"
      },
      "execution_count": 2,
      "outputs": [
        {
          "output_type": "stream",
          "name": "stdout",
          "text": [
            "Juan\n"
          ]
        }
      ]
    },
    {
      "cell_type": "code",
      "source": [
        "# 3. Pide al usuario un número e imprime su doble\n",
        "numero = int(input(\"Ingresa un número: \"))\n",
        "print(numero * 2)"
      ],
      "metadata": {
        "colab": {
          "base_uri": "https://localhost:8080/"
        },
        "id": "p4LutWHa5qZx",
        "outputId": "1acefae6-5143-4961-a1e1-2f5331482b4f"
      },
      "execution_count": 3,
      "outputs": [
        {
          "output_type": "stream",
          "name": "stdout",
          "text": [
            "Ingresa un número: 5\n",
            "10\n"
          ]
        }
      ]
    },
    {
      "cell_type": "code",
      "source": [
        "# 4. Suma dos números ingresados por el usuario\n",
        "num1 = int(input(\"Ingresa el primer número: \"))\n",
        "num2 = int(input(\"Ingresa el segundo número: \"))\n",
        "print(\"La suma es:\", num1 + num2)"
      ],
      "metadata": {
        "colab": {
          "base_uri": "https://localhost:8080/"
        },
        "id": "mpRHqU3B5zWv",
        "outputId": "8de6dc94-909c-42a1-b306-051b3379dfd3"
      },
      "execution_count": 4,
      "outputs": [
        {
          "output_type": "stream",
          "name": "stdout",
          "text": [
            "Ingresa el primer número: 4\n",
            "Ingresa el segundo número: 9\n",
            "La suma es: 13\n"
          ]
        }
      ]
    },
    {
      "cell_type": "code",
      "source": [
        "# 5. Muestra el primer y último número de una lista\n",
        "numeros = [10, 20, 30, 40, 50]\n",
        "print(numeros[0], numeros[-1])"
      ],
      "metadata": {
        "colab": {
          "base_uri": "https://localhost:8080/"
        },
        "id": "jwF5ohz852bQ",
        "outputId": "7781f765-7ce1-4381-9b04-fda42745dec0"
      },
      "execution_count": 5,
      "outputs": [
        {
          "output_type": "stream",
          "name": "stdout",
          "text": [
            "10 50\n"
          ]
        }
      ]
    },
    {
      "cell_type": "code",
      "source": [
        "# 6. Verifica si un número es par o impar\n",
        "num = int(input(\"Ingresa un número: \"))\n",
        "if num % 2 == 0:\n",
        "    print(\"Es par\")\n",
        "else:\n",
        "    print(\"Es impar\")\n"
      ],
      "metadata": {
        "colab": {
          "base_uri": "https://localhost:8080/"
        },
        "id": "Guke5mV759y-",
        "outputId": "6136ba60-94ff-46a6-ac84-bdf886850ce4"
      },
      "execution_count": 6,
      "outputs": [
        {
          "output_type": "stream",
          "name": "stdout",
          "text": [
            "Ingresa un número: 4\n",
            "Es par\n"
          ]
        }
      ]
    },
    {
      "cell_type": "code",
      "source": [
        "# 7. Imprime los números del 1 al 10 usando un bucle\n",
        "for i in range(1, 11):\n",
        "    print(i)\n"
      ],
      "metadata": {
        "colab": {
          "base_uri": "https://localhost:8080/"
        },
        "id": "5NkOM2M96BKC",
        "outputId": "5175e34f-18f5-487e-b9a3-da844cb1c87b"
      },
      "execution_count": 7,
      "outputs": [
        {
          "output_type": "stream",
          "name": "stdout",
          "text": [
            "1\n",
            "2\n",
            "3\n",
            "4\n",
            "5\n",
            "6\n",
            "7\n",
            "8\n",
            "9\n",
            "10\n"
          ]
        }
      ]
    },
    {
      "cell_type": "code",
      "source": [
        "# 8. Calcula la suma de los primeros 100 números naturales\n",
        "print(sum(range(1, 101)))"
      ],
      "metadata": {
        "colab": {
          "base_uri": "https://localhost:8080/"
        },
        "id": "_Ktj18x56EQ8",
        "outputId": "10e6e3f5-5176-49ed-be08-585ad9567a68"
      },
      "execution_count": 8,
      "outputs": [
        {
          "output_type": "stream",
          "name": "stdout",
          "text": [
            "5050\n"
          ]
        }
      ]
    },
    {
      "cell_type": "code",
      "source": [
        "# 9. Función que devuelve el cuadrado de un número\n",
        "def cuadrado(n):\n",
        "    return n ** 2\n",
        "num = int(input(\"Ingresa un número: \"))\n",
        "print(cuadrado(num))"
      ],
      "metadata": {
        "colab": {
          "base_uri": "https://localhost:8080/"
        },
        "id": "CYhM3l9S6IWW",
        "outputId": "297161fa-3a15-4d24-c039-d9febe435247"
      },
      "execution_count": 15,
      "outputs": [
        {
          "output_type": "stream",
          "name": "stdout",
          "text": [
            "Ingresa un número: 7\n",
            "49\n"
          ]
        }
      ]
    },
    {
      "cell_type": "code",
      "source": [
        "# 10. Cuenta cuántas vocales tiene un texto\n",
        "texto = input(\"Ingresa un texto: \")\n",
        "vocales = \"aeiouAEIOU\"\n",
        "contador = sum(1 for letra in texto if letra in vocales)\n",
        "print(\"Cantidad de vocales:\", contador)"
      ],
      "metadata": {
        "colab": {
          "base_uri": "https://localhost:8080/"
        },
        "id": "v71vN4ZL6xn1",
        "outputId": "fec245d9-fb06-4045-b2b3-7e27b42cf644"
      },
      "execution_count": 16,
      "outputs": [
        {
          "output_type": "stream",
          "name": "stdout",
          "text": [
            "Ingresa un texto: hola\n",
            "Cantidad de vocales: 2\n"
          ]
        }
      ]
    },
    {
      "cell_type": "code",
      "source": [
        "# 11. Muestra los números pares de una lista\n",
        "lista = list(range(1, 11))\n",
        "pares = [num for num in lista if num % 2 == 0]\n",
        "print(pares)"
      ],
      "metadata": {
        "colab": {
          "base_uri": "https://localhost:8080/"
        },
        "id": "IXPJCjGw64lX",
        "outputId": "49bfc07c-6a59-47e6-d75e-1c5e7d170b28"
      },
      "execution_count": 17,
      "outputs": [
        {
          "output_type": "stream",
          "name": "stdout",
          "text": [
            "[2, 4, 6, 8, 10]\n"
          ]
        }
      ]
    },
    {
      "cell_type": "code",
      "source": [
        "# 12. Diccionario de nombres y edades\n",
        "personas = {\"Ana\": 25, \"Pedro\": 30, \"Luis\": 22}\n",
        "nombre = input(\"Ingresa un nombre: \")\n",
        "print(\"Edad:\", personas.get(nombre, \"No encontrado\"))"
      ],
      "metadata": {
        "colab": {
          "base_uri": "https://localhost:8080/"
        },
        "id": "-gQxI-V4680d",
        "outputId": "d00d8661-6552-41d0-ef7a-fe823e06317f"
      },
      "execution_count": 24,
      "outputs": [
        {
          "output_type": "stream",
          "name": "stdout",
          "text": [
            "Ingresa un nombre: Ana\n",
            "Edad: 25\n"
          ]
        }
      ]
    },
    {
      "cell_type": "code",
      "source": [
        "# 13. Encuentra el número más grande en una lista\n",
        "lista_numeros = [34, 67, 12, 89, 23]\n",
        "print(max(lista_numeros))"
      ],
      "metadata": {
        "colab": {
          "base_uri": "https://localhost:8080/"
        },
        "id": "aHcpmdvH7SOE",
        "outputId": "732187e1-71f1-453d-f1a1-e285632e14ae"
      },
      "execution_count": 25,
      "outputs": [
        {
          "output_type": "stream",
          "name": "stdout",
          "text": [
            "89\n"
          ]
        }
      ]
    },
    {
      "cell_type": "code",
      "source": [
        "# 14. Función que calcula el promedio de una lista\n",
        "lista= [34,67,82,95,37]\n",
        "def promedio(lista):\n",
        "    return sum(lista) / len(lista)\n",
        "print(f\"El Promedio es {sum(lista)/len(lista)}\")"
      ],
      "metadata": {
        "colab": {
          "base_uri": "https://localhost:8080/"
        },
        "id": "TP3k0rwO7WDf",
        "outputId": "dc1fa21c-911e-4d6a-b2ac-a6e9f82fa870"
      },
      "execution_count": 49,
      "outputs": [
        {
          "output_type": "stream",
          "name": "stdout",
          "text": [
            "El Promedio es 63.0\n"
          ]
        }
      ]
    },
    {
      "cell_type": "code",
      "source": [
        "# 15. Verifica si una palabra es un palíndromo\n",
        "palabra = input(\"Ingresa una palabra: \")\n",
        "if palabra == palabra[::-1]:\n",
        "    print(\"Es un palíndromo\")\n",
        "else:\n",
        "    print(\"No es un palíndromo\")"
      ],
      "metadata": {
        "colab": {
          "base_uri": "https://localhost:8080/"
        },
        "id": "M4GB1Ued8Ch9",
        "outputId": "60bc8b95-f31b-4362-a26e-2db2f5dddd2c"
      },
      "execution_count": 34,
      "outputs": [
        {
          "output_type": "stream",
          "name": "stdout",
          "text": [
            "Ingresa una palabra: alla\n",
            "Es un palíndromo\n"
          ]
        }
      ]
    },
    {
      "cell_type": "code",
      "source": [
        "# 16. Función que devuelve el mayor de dos números\n",
        "def mayor(a, b):\n",
        "    return max(a, b)\n",
        "\n",
        "print(mayor(10, 20))"
      ],
      "metadata": {
        "colab": {
          "base_uri": "https://localhost:8080/"
        },
        "id": "Zm1FrpH_8Mxy",
        "outputId": "8bec9b29-26b3-4c7d-ea1e-d4e60d1d813b"
      },
      "execution_count": 35,
      "outputs": [
        {
          "output_type": "stream",
          "name": "stdout",
          "text": [
            "20\n"
          ]
        }
      ]
    },
    {
      "cell_type": "code",
      "source": [
        "# 17. Genera la tabla de multiplicar de un número\n",
        "tabla = int(input(\"Ingresa un número: \"))\n",
        "for i in range(1, 11):\n",
        "    print(f\"{tabla} x {i} = {tabla * i}\")"
      ],
      "metadata": {
        "colab": {
          "base_uri": "https://localhost:8080/"
        },
        "id": "LGfOB65g8RAk",
        "outputId": "298f32cf-bbbd-4d52-ff14-555e51796329"
      },
      "execution_count": 36,
      "outputs": [
        {
          "output_type": "stream",
          "name": "stdout",
          "text": [
            "Ingresa un número: 8\n",
            "8 x 1 = 8\n",
            "8 x 2 = 16\n",
            "8 x 3 = 24\n",
            "8 x 4 = 32\n",
            "8 x 5 = 40\n",
            "8 x 6 = 48\n",
            "8 x 7 = 56\n",
            "8 x 8 = 64\n",
            "8 x 9 = 72\n",
            "8 x 10 = 80\n"
          ]
        }
      ]
    },
    {
      "cell_type": "code",
      "source": [],
      "metadata": {
        "id": "7EyvcqvF8cSA"
      },
      "execution_count": 49,
      "outputs": []
    },
    {
      "cell_type": "code",
      "source": [],
      "metadata": {
        "id": "VHRd3_mG-3W4"
      },
      "execution_count": 49,
      "outputs": []
    },
    {
      "cell_type": "code",
      "source": [],
      "metadata": {
        "id": "6QwJUOOW--WL"
      },
      "execution_count": 49,
      "outputs": []
    }
  ]
}